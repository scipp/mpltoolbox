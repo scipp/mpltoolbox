{
 "cells": [
  {
   "cell_type": "markdown",
   "id": "0",
   "metadata": {},
   "source": [
    "# Programmatic control\n",
    "\n",
    "It can sometimes be useful to programmatically add or remove artists on the figure,\n",
    "instead of using the mouse.\n",
    "This can either be if a very accurate position is required,\n",
    "or for software testing purposes.\n",
    "\n",
    "## Simulating clicks\n",
    "\n",
    "Every tool has a `click()` method that can be used to simulate a mouse click event.\n",
    "It accepts two numbers for the `x` and `y` coordinates of the event,\n",
    "as well as an optional `button` argument that can be used to change which mouse button is used.\n",
    "The different values for `button` are: `1` for left-click (default), `2` for middle-click, `3` for right-click.\n",
    "\n",
    "In the following example, we will add lines to a figure using the `click` method."
   ]
  },
  {
   "cell_type": "code",
   "execution_count": null,
   "id": "1",
   "metadata": {},
   "outputs": [],
   "source": [
    "%matplotlib widget\n",
    "import matplotlib.pyplot as plt\n",
    "\n",
    "plt.ioff()\n",
    "import mpltoolbox as tbx"
   ]
  },
  {
   "cell_type": "code",
   "execution_count": null,
   "id": "2",
   "metadata": {},
   "outputs": [],
   "source": [
    "fig, ax = plt.subplots(dpi=96)\n",
    "\n",
    "ax.set_xlim(0, 100)\n",
    "ax.set_ylim(0, 100)\n",
    "\n",
    "lines = tbx.Lines(ax=ax, n=2)"
   ]
  },
  {
   "cell_type": "code",
   "execution_count": null,
   "id": "3",
   "metadata": {},
   "outputs": [],
   "source": [
    "lines.click(x=20, y=40)  # first line vertex\n",
    "lines.click(x=80, y=70)  # second line vertex\n",
    "\n",
    "lines.click(x=30, y=10)\n",
    "lines.click(x=40, y=90)\n",
    "\n",
    "lines.click(x=50, y=50)\n",
    "lines.click(x=85, y=15)"
   ]
  },
  {
   "cell_type": "code",
   "execution_count": null,
   "id": "4",
   "metadata": {},
   "outputs": [],
   "source": [
    "fig"
   ]
  },
  {
   "cell_type": "markdown",
   "id": "5",
   "metadata": {},
   "source": [
    "## Removing artists\n",
    "\n",
    "To remove an artist from a figure, the `remove` method accepts\n",
    "\n",
    "- an integer index, in which case the artist with the corresponding position in the list of children will be removed\n",
    "- an artist (using `tool.children` will give a list of all artists the tool is responsible for)\n",
    "- a string, which should be the `id` (`uuid`) of the artist to be removed"
   ]
  },
  {
   "cell_type": "code",
   "execution_count": null,
   "id": "6",
   "metadata": {},
   "outputs": [],
   "source": [
    "lines.remove(0)  # remove the first line that was added\n",
    "lines.remove(lines.children[-1])  # remove the last line that was added\n",
    "\n",
    "fig"
   ]
  }
 ],
 "metadata": {
  "kernelspec": {
   "display_name": "Python 3 (ipykernel)",
   "language": "python",
   "name": "python3"
  },
  "language_info": {
   "codemirror_mode": {
    "name": "ipython",
    "version": 3
   },
   "file_extension": ".py",
   "mimetype": "text/x-python",
   "name": "python",
   "nbconvert_exporter": "python",
   "pygments_lexer": "ipython3",
   "version": "3.9.13"
  }
 },
 "nbformat": 4,
 "nbformat_minor": 5
}
