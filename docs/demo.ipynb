{
 "cells": [
  {
   "cell_type": "markdown",
   "id": "0",
   "metadata": {},
   "source": [
    "# Mpltoolbox demo"
   ]
  },
  {
   "cell_type": "code",
   "execution_count": null,
   "id": "1",
   "metadata": {},
   "outputs": [],
   "source": [
    "%matplotlib widget\n",
    "import matplotlib.pyplot as plt\n",
    "import mpltoolbox as tbx\n",
    "import numpy as np\n",
    "\n",
    "\n",
    "def new_figure():\n",
    "    fig, ax = plt.subplots(dpi=96)\n",
    "    ax.set_xlim(0, 100)\n",
    "    ax.set_ylim(0, 100)\n",
    "    return fig, ax"
   ]
  },
  {
   "cell_type": "markdown",
   "id": "2",
   "metadata": {},
   "source": [
    "## Points\n",
    "\n",
    "Use the `Points` tool to add markers to a plot.\n",
    "\n",
    "**Controls**\n",
    "\n",
    "- Left-click to make new point\n",
    "- Left-click and hold on point to move point\n",
    "- Middle-click (or Ctrl + left-click) to delete point"
   ]
  },
  {
   "cell_type": "code",
   "execution_count": null,
   "id": "3",
   "metadata": {},
   "outputs": [],
   "source": [
    "fig, ax = new_figure()\n",
    "\n",
    "points = tbx.Points(ax=ax)"
   ]
  },
  {
   "cell_type": "markdown",
   "id": "4",
   "metadata": {},
   "source": [
    "## Lines\n",
    "\n",
    "Use the `Lines` tool to add lines to a plot.\n",
    "The argument `n` should be used to set the number of vertices per line.\n",
    "\n",
    "**Controls**\n",
    "\n",
    "- Left-click to make new lines\n",
    "- Left-click and hold on line vertex to move vertex\n",
    "- Right-click and hold to drag/move the entire line\n",
    "- Middle-click (or Ctrl + left-click) to delete line"
   ]
  },
  {
   "cell_type": "code",
   "execution_count": null,
   "id": "5",
   "metadata": {},
   "outputs": [],
   "source": [
    "fig, ax = new_figure()\n",
    "\n",
    "lines = tbx.Lines(ax=ax, n=2)"
   ]
  },
  {
   "cell_type": "markdown",
   "id": "6",
   "metadata": {},
   "source": [
    "## Rectangles\n",
    "\n",
    "Use the `Rectangles` tool to add rectangles to a plot.\n",
    "\n",
    "**Controls**\n",
    "\n",
    "- Left-click and hold to make new rectangle\n",
    "- Left-click and hold on ellipse vertex to resize\n",
    "- Right-click and hold to drag/move rectangle\n",
    "- Middle-click (or Ctrl + left-click) to delete rectangle"
   ]
  },
  {
   "cell_type": "code",
   "execution_count": null,
   "id": "7",
   "metadata": {},
   "outputs": [],
   "source": [
    "fig, ax = new_figure()\n",
    "\n",
    "rects = tbx.Rectangles(ax=ax)"
   ]
  },
  {
   "cell_type": "markdown",
   "id": "8",
   "metadata": {},
   "source": [
    "## Ellipses\n",
    "\n",
    "Use the `Ellipses` tool to add ellipses to a plot.\n",
    "\n",
    "**Controls**\n",
    "\n",
    "- Left-click and hold to make new ellipse\n",
    "- Left-click and hold on ellipse vertex to resize\n",
    "- Right-click and hold to drag/move ellipse\n",
    "- Middle-click (or Ctrl + left-click) to delete ellipse"
   ]
  },
  {
   "cell_type": "code",
   "execution_count": null,
   "id": "9",
   "metadata": {},
   "outputs": [],
   "source": [
    "fig, ax = new_figure()\n",
    "\n",
    "ellipses = tbx.Ellipses(ax=ax)"
   ]
  },
  {
   "cell_type": "markdown",
   "id": "10",
   "metadata": {},
   "source": [
    "## Polygons\n",
    "\n",
    "Use the `Polygons` tool to add closed polygons to a plot.\n",
    "\n",
    "**Controls**\n",
    "\n",
    "- Left-click to make new polygon\n",
    "- Left-click and hold on polygon vertex to move vertex\n",
    "- Right-click and hold to drag/move the entire polygon\n",
    "- Middle-click (or Ctrl + left-click) to delete polygon"
   ]
  },
  {
   "cell_type": "code",
   "execution_count": null,
   "id": "11",
   "metadata": {},
   "outputs": [],
   "source": [
    "fig, ax = new_figure()\n",
    "\n",
    "polygons = tbx.Polygons(ax=ax)"
   ]
  },
  {
   "cell_type": "markdown",
   "id": "12",
   "metadata": {},
   "source": [
    "## Spans\n",
    "\n",
    "Use the `Vspans` tool to add vertical spans to a plot.\n",
    "\n",
    "**Controls**\n",
    "\n",
    "- Left-click and hold to make new span\n",
    "- Left-click and hold on span vertex to resize\n",
    "- Right-click and hold to drag/move span\n",
    "- Middle-click (or Ctrl + left-click) to delete span"
   ]
  },
  {
   "cell_type": "code",
   "execution_count": null,
   "id": "13",
   "metadata": {},
   "outputs": [],
   "source": [
    "fig, ax = new_figure()\n",
    "\n",
    "vspans = tbx.Vspans(ax=ax)"
   ]
  },
  {
   "cell_type": "markdown",
   "id": "14",
   "metadata": {},
   "source": [
    "Use the `Hspans` tool to add horizontal spans to a plot."
   ]
  },
  {
   "cell_type": "code",
   "execution_count": null,
   "id": "15",
   "metadata": {},
   "outputs": [],
   "source": [
    "fig, ax = new_figure()\n",
    "\n",
    "hspans = tbx.Hspans(ax=ax)"
   ]
  },
  {
   "cell_type": "markdown",
   "id": "16",
   "metadata": {},
   "source": [
    "# Callbacks\n",
    "\n",
    "Every tool in the `mpltoolbox` comes with entry points for adding callbacks to different events.\n",
    "The different events are:\n",
    "\n",
    "- `on_create`: called when drawing the shape (rectangle, line or polygon) is complete\n",
    "- `on_change`: called when the shape has changed in any way (position, size...)\n",
    "- `on_remove`: called when the shape is deleted (middle-click, or Ctrl + left-click)\n",
    "- `on_vertex_press`: called when a vertex is clicked (left-click)\n",
    "- `on_vertex_move`: called when a vertex is moved\n",
    "- `on_vertex_release`: called when the mouse button is released after clicking a vertex\n",
    "- `on_drag_press`: called when the entire shape (rectangle, line, etc..) is right clicked to initiate drag\n",
    "- `on_drag_move`: called for every movement during shape drag (right-click and hold)\n",
    "- `on_drag_release`: called when the shape is released after drag\n",
    "\n",
    "Below is a couple of examples on how these callbacks are used."
   ]
  },
  {
   "cell_type": "markdown",
   "id": "17",
   "metadata": {},
   "source": [
    "### Example: adding markers to slice a 3d data cube\n",
    "\n",
    "We first make some three-dimensional data:"
   ]
  },
  {
   "cell_type": "code",
   "execution_count": null,
   "id": "18",
   "metadata": {},
   "outputs": [],
   "source": [
    "N = 200\n",
    "M = 300\n",
    "L = 100\n",
    "xx = np.arange(N, dtype=np.float64)\n",
    "yy = np.arange(M, dtype=np.float64)\n",
    "zz = np.arange(L, dtype=np.float64)\n",
    "x, y, z = np.meshgrid(xx, yy, zz, indexing='ij')\n",
    "b = N / 20.0\n",
    "c = M / 2.0\n",
    "d = L / 2.0\n",
    "r = np.sqrt(((x - c) / b) ** 2 + ((y - c) / b) ** 2 + ((z - d) / b) ** 2)\n",
    "a = 10.0 * np.sin(r) + np.random.random([N, M, L])"
   ]
  },
  {
   "cell_type": "markdown",
   "id": "19",
   "metadata": {},
   "source": [
    "Create a figure to display the first `z` slice of the data as a two-dimensional image,\n",
    "as well as an empty subplot below:"
   ]
  },
  {
   "cell_type": "code",
   "execution_count": null,
   "id": "20",
   "metadata": {},
   "outputs": [],
   "source": [
    "fig, ax = plt.subplots(2, 1, figsize=(7, 7))\n",
    "fig.canvas.header_visible = False\n",
    "ax[0].imshow(a[..., 0], interpolation=\"none\", origin=\"lower\")\n",
    "ax[0].set(xlabel='x', ylabel='y')\n",
    "ax[1].set(xlabel='z')\n",
    "fig.tight_layout()"
   ]
  },
  {
   "cell_type": "markdown",
   "id": "21",
   "metadata": {},
   "source": [
    "Then we add a `Points` tool where:\n",
    "\n",
    "- When a dot is added on the image, a line is created in the lower panel, showing a one-dimensional `z` slice at the location of the marker\n",
    "- When a dot is moved, the `z` line is updated accordingly\n",
    "- When a dot is removed, we remove the corresponding `z` profile"
   ]
  },
  {
   "cell_type": "code",
   "execution_count": null,
   "id": "22",
   "metadata": {},
   "outputs": [],
   "source": [
    "def make_line(new_point):\n",
    "    (line,) = ax[1].plot(a[int(new_point.y), int(new_point.x), :])\n",
    "    new_point.associated = line\n",
    "\n",
    "\n",
    "def update_line(new_point):\n",
    "    new_point.associated.set_ydata(a[int(new_point.y), int(new_point.x), :])\n",
    "\n",
    "\n",
    "def remove_line(point):\n",
    "    point.associated.remove()\n",
    "\n",
    "\n",
    "points = tbx.Points(ax=ax[0], mec='white')\n",
    "points.on_create(make_line)\n",
    "points.on_change(update_line)\n",
    "points.on_remove(remove_line)"
   ]
  },
  {
   "cell_type": "markdown",
   "id": "23",
   "metadata": {},
   "source": [
    "Now click on the 2D image to add point markers and `z` profiles on the line plot below."
   ]
  }
 ],
 "metadata": {
  "kernelspec": {
   "display_name": "Python 3 (ipykernel)",
   "language": "python",
   "name": "python3"
  },
  "language_info": {
   "codemirror_mode": {
    "name": "ipython",
    "version": 3
   },
   "file_extension": ".py",
   "mimetype": "text/x-python",
   "name": "python",
   "nbconvert_exporter": "python",
   "pygments_lexer": "ipython3"
  }
 },
 "nbformat": 4,
 "nbformat_minor": 5
}
