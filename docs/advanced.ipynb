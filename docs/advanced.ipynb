{
 "cells": [
  {
   "cell_type": "markdown",
   "id": "0",
   "metadata": {},
   "source": [
    "# Advanced\n",
    "\n",
    "Here we demonstrate some more advanced uses of `mpltoolbox`.\n",
    "\n",
    "## Callbacks\n",
    "\n",
    "Every tool in the `mpltoolbox` comes with entry points for adding callbacks to different events.\n",
    "The different events are:\n",
    "\n",
    "- `on_create`: called when drawing the shape (rectangle, line or polygon) is complete\n",
    "- `on_change`: called when the shape has changed in any way (position, size...)\n",
    "- `on_remove`: called when the shape is deleted (middle-click, or Ctrl + left-click)\n",
    "- `on_vertex_press`: called when a vertex is clicked (left-click)\n",
    "- `on_vertex_move`: called when a vertex is moved\n",
    "- `on_vertex_release`: called when the mouse button is released after clicking a vertex\n",
    "- `on_drag_press`: called when the entire shape (rectangle, line, etc..) is right clicked to initiate drag\n",
    "- `on_drag_move`: called for every movement during shape drag (right-click and hold)\n",
    "- `on_drag_release`: called when the shape is released after drag\n",
    "\n",
    "Below is a couple of examples on how these callbacks are used."
   ]
  },
  {
   "cell_type": "code",
   "execution_count": null,
   "id": "1",
   "metadata": {},
   "outputs": [],
   "source": [
    "%matplotlib widget\n",
    "import numpy as np\n",
    "import mpltoolbox as tbx\n",
    "import matplotlib.pyplot as plt\n",
    "\n",
    "plt.ioff()"
   ]
  },
  {
   "cell_type": "markdown",
   "id": "2",
   "metadata": {},
   "source": [
    "### Example 1: Add markers to slice 3d cube\n",
    "\n",
    "We first make some three-dimensional data:"
   ]
  },
  {
   "cell_type": "code",
   "execution_count": null,
   "id": "3",
   "metadata": {},
   "outputs": [],
   "source": [
    "N = 200\n",
    "M = 300\n",
    "L = 100\n",
    "xx = np.arange(N, dtype=np.float64)\n",
    "yy = np.arange(M, dtype=np.float64)\n",
    "zz = np.arange(L, dtype=np.float64)\n",
    "x, y, z = np.meshgrid(xx, yy, zz, indexing=\"ij\")\n",
    "b = N / 20.0\n",
    "c = M / 2.0\n",
    "d = L / 2.0\n",
    "r = np.sqrt(((x - c) / b) ** 2 + ((y - c) / b) ** 2 + ((z - d) / b) ** 2)\n",
    "a = 10.0 * np.sin(r) + np.random.random([N, M, L])"
   ]
  },
  {
   "cell_type": "markdown",
   "id": "4",
   "metadata": {},
   "source": [
    "Create a figure to display the first `z` slice of the data as a two-dimensional image,\n",
    "as well as an empty subplot below:"
   ]
  },
  {
   "cell_type": "code",
   "execution_count": null,
   "id": "5",
   "metadata": {},
   "outputs": [],
   "source": [
    "fig, ax = plt.subplots(2, 1, figsize=(7, 7))\n",
    "fig.canvas.header_visible = False\n",
    "ax[0].imshow(a[..., 0], interpolation=\"none\", origin=\"lower\")\n",
    "ax[0].set(xlabel='x', ylabel='y')\n",
    "ax[1].set(xlabel='z')\n",
    "fig.tight_layout()"
   ]
  },
  {
   "cell_type": "markdown",
   "id": "6",
   "metadata": {},
   "source": [
    "Then we add a `Points` tool where:\n",
    "\n",
    "- When a dot is added on the image, a line is created in the lower panel, showing a one-dimensional `z` slice at the location of the marker\n",
    "- When a dot is moved, the `z` line is updated accordingly\n",
    "- When a dot is removed, remove the corresponding `z` profile"
   ]
  },
  {
   "cell_type": "code",
   "execution_count": null,
   "id": "7",
   "metadata": {},
   "outputs": [],
   "source": [
    "def make_line(new_point):\n",
    "    (line,) = ax[1].plot(a[int(new_point.y), int(new_point.x), :])\n",
    "    new_point.associated = line\n",
    "\n",
    "\n",
    "def update_line(new_point):\n",
    "    new_point.associated.set_ydata(a[int(new_point.y), int(new_point.x), :])\n",
    "\n",
    "\n",
    "def remove_line(point):\n",
    "    point.associated.remove()\n",
    "\n",
    "\n",
    "points = tbx.Points(ax=ax[0], mec=\"white\")\n",
    "points.on_create(make_line)\n",
    "points.on_change(update_line)\n",
    "points.on_remove(remove_line)"
   ]
  },
  {
   "cell_type": "code",
   "execution_count": null,
   "id": "8",
   "metadata": {
    "nbsphinx": "hidden"
   },
   "outputs": [],
   "source": [
    "points.click(x=101, y=67)\n",
    "points.click(x=116, y=96)\n",
    "points.click(x=271, y=155)"
   ]
  },
  {
   "cell_type": "code",
   "execution_count": null,
   "id": "9",
   "metadata": {},
   "outputs": [],
   "source": [
    "fig.canvas"
   ]
  },
  {
   "cell_type": "markdown",
   "id": "10",
   "metadata": {},
   "source": [
    "### Example 2: Histogram inside a rectangular region\n",
    "\n",
    "In the second example, we use the `Ractangles` tool to draw rectangles on the same 2d image.\n",
    "This defines a region of interest, inside which the data will be histogrammed and displayed on the lower panel. "
   ]
  },
  {
   "cell_type": "code",
   "execution_count": null,
   "id": "11",
   "metadata": {},
   "outputs": [],
   "source": [
    "fig2, ax2 = plt.subplots(2, 1, figsize=(7, 7))\n",
    "fig2.canvas.header_visible = False\n",
    "fig2.tight_layout()\n",
    "ax2[0].imshow(a[..., 0], interpolation=\"none\", origin=\"lower\")\n",
    "\n",
    "\n",
    "def make_hist(new_rectangle):\n",
    "    xy = new_rectangle.xy\n",
    "    ix0 = int(xy[0])\n",
    "    iy0 = int(xy[1])\n",
    "    ix1 = int(xy[0] + new_rectangle.width)\n",
    "    iy1 = int(xy[1] + new_rectangle.height)\n",
    "    n, bins, patches = ax2[1].hist(\n",
    "        a[min(iy0, iy1) : max(iy0, iy1), min(ix0, ix1) : max(ix0, ix1), :].ravel(),\n",
    "        histtype=\"step\",\n",
    "        lw=1.5,\n",
    "        color=new_rectangle.edgecolor,\n",
    "    )\n",
    "    new_rectangle.associated = patches\n",
    "\n",
    "\n",
    "def update_hist(new_rectangle):\n",
    "    for patch in new_rectangle.associated:\n",
    "        patch.remove()\n",
    "    make_hist(new_rectangle)\n",
    "\n",
    "\n",
    "def remove_hist(rectangle):\n",
    "    for patch in rectangle.associated:\n",
    "        patch.remove()\n",
    "\n",
    "\n",
    "rects = tbx.Rectangles(ax=ax2[0], facecolor=(0, 0, 0, 0.3))\n",
    "rects.on_create(make_hist)\n",
    "rects.on_change(update_hist)\n",
    "rects.on_remove(remove_hist)"
   ]
  },
  {
   "cell_type": "code",
   "execution_count": null,
   "id": "12",
   "metadata": {
    "nbsphinx": "hidden"
   },
   "outputs": [],
   "source": [
    "rects.click(x=51, y=67)\n",
    "rects.click(x=159, y=125)\n",
    "\n",
    "rects.click(x=200, y=130)\n",
    "rects.click(x=260, y=175)"
   ]
  },
  {
   "cell_type": "code",
   "execution_count": null,
   "id": "13",
   "metadata": {},
   "outputs": [],
   "source": [
    "fig2.canvas"
   ]
  },
  {
   "cell_type": "markdown",
   "id": "14",
   "metadata": {},
   "source": [
    "### Example 3: Multiple callbacks\n",
    "\n",
    "It is also possible to add multiple callbacks by calling the `on_*` methods multiple times:"
   ]
  },
  {
   "cell_type": "code",
   "execution_count": null,
   "id": "15",
   "metadata": {},
   "outputs": [],
   "source": [
    "fig, ax = plt.subplots(2, 1, figsize=(7, 7))\n",
    "fig.canvas.header_visible = False\n",
    "ax[0].set(xlabel='x', ylabel='y')\n",
    "ax[1].set(xlabel='z')\n",
    "fig.tight_layout()\n",
    "ax[0].imshow(a[..., 0], interpolation=\"none\", origin=\"lower\")\n",
    "\n",
    "\n",
    "def make_line(p):\n",
    "    (line,) = ax[1].plot(a[int(p.y), int(p.y), :])\n",
    "    p.associated = line\n",
    "\n",
    "\n",
    "def update_line(p):\n",
    "    p.associated.set_ydata(a[int(p.y), int(p.y), :])\n",
    "\n",
    "\n",
    "def make_text(p):\n",
    "    t = ax[1].text(50.0, np.random.random() * 10, f\"x={int(p.x)}; y={int(p.y)}\")\n",
    "    p.text = t\n",
    "\n",
    "\n",
    "def update_text(p):\n",
    "    p.text.set_text(f\"x={int(p.x)}; y={int(p.y)}\")\n",
    "\n",
    "\n",
    "points = tbx.Points(ax=ax[0], mec=\"white\")\n",
    "points.on_create(make_line)\n",
    "points.on_create(make_text)\n",
    "points.on_change(update_line)\n",
    "points.on_change(update_text)"
   ]
  },
  {
   "cell_type": "code",
   "execution_count": null,
   "id": "16",
   "metadata": {
    "nbsphinx": "hidden"
   },
   "outputs": [],
   "source": [
    "points.click(x=101, y=67)\n",
    "points.click(x=116, y=96)\n",
    "points.click(x=271, y=155)"
   ]
  },
  {
   "cell_type": "code",
   "execution_count": null,
   "id": "17",
   "metadata": {},
   "outputs": [],
   "source": [
    "fig.canvas"
   ]
  },
  {
   "cell_type": "markdown",
   "id": "18",
   "metadata": {},
   "source": [
    "## Programmatic control\n",
    "\n",
    "It can sometimes be useful to programmatically add or remove artists on the figure,\n",
    "instead of using the mouse.\n",
    "This can either be if a very accurate position is required,\n",
    "or for software testing purposes.\n",
    "\n",
    "### Simulating clicks\n",
    "\n",
    "Every tool has a `click()` method that can be used to simulate a mouse click event.\n",
    "It accepts two numbers for the `x` and `y` coordinates of the event,\n",
    "as well as an optional `button` argument that can be used to change which mouse button is used.\n",
    "The different values for `button` are: `1` for left-click (default), `2` for middle-click, `3` for right-click.\n",
    "\n",
    "In the following example, we will add lines to a figure using the `click` method."
   ]
  },
  {
   "cell_type": "code",
   "execution_count": null,
   "id": "19",
   "metadata": {},
   "outputs": [],
   "source": [
    "fig, ax = plt.subplots(dpi=96)\n",
    "\n",
    "ax.set_xlim(0, 100)\n",
    "ax.set_ylim(0, 100)\n",
    "\n",
    "lines = tbx.Lines(ax=ax, n=2)"
   ]
  },
  {
   "cell_type": "code",
   "execution_count": null,
   "id": "20",
   "metadata": {},
   "outputs": [],
   "source": [
    "lines.click(x=20, y=40)  # first line vertex\n",
    "lines.click(x=80, y=70)  # second line vertex\n",
    "\n",
    "lines.click(x=30, y=10)\n",
    "lines.click(x=40, y=90)\n",
    "\n",
    "lines.click(x=50, y=50)\n",
    "lines.click(x=85, y=15)"
   ]
  },
  {
   "cell_type": "code",
   "execution_count": null,
   "id": "21",
   "metadata": {},
   "outputs": [],
   "source": [
    "fig.canvas"
   ]
  },
  {
   "cell_type": "markdown",
   "id": "22",
   "metadata": {},
   "source": [
    "### Removing artists\n",
    "\n",
    "To remove an artist from a figure, the `remove` method accepts\n",
    "\n",
    "- an integer index, in which case the artist with the corresponding position in the list of children will be removed\n",
    "- an artist (using `tool.children` will give a list of all artists the tool is responsible for)\n",
    "- a string, which should be the `id` (`uuid`) of the artist to be removed"
   ]
  },
  {
   "cell_type": "code",
   "execution_count": null,
   "id": "23",
   "metadata": {
    "nbsphinx": "hidden"
   },
   "outputs": [],
   "source": [
    "fig, ax = plt.subplots(dpi=96)\n",
    "ax.set_xlim(0, 100)\n",
    "ax.set_ylim(0, 100)\n",
    "lines = tbx.Lines(ax=ax, n=2)\n",
    "lines.click(x=20, y=40)  # first line vertex\n",
    "lines.click(x=80, y=70)  # second line vertex\n",
    "lines.click(x=30, y=10)\n",
    "lines.click(x=40, y=90)\n",
    "lines.click(x=50, y=50)\n",
    "lines.click(x=85, y=15)"
   ]
  },
  {
   "cell_type": "code",
   "execution_count": null,
   "id": "24",
   "metadata": {},
   "outputs": [],
   "source": [
    "lines.remove(0)  # remove the first line that was added\n",
    "lines.remove(lines.children[-1])  # remove the last line that was added\n",
    "\n",
    "fig.canvas"
   ]
  }
 ],
 "metadata": {
  "kernelspec": {
   "display_name": "Python 3 (ipykernel)",
   "language": "python",
   "name": "python3"
  },
  "language_info": {
   "codemirror_mode": {
    "name": "ipython",
    "version": 3
   },
   "file_extension": ".py",
   "mimetype": "text/x-python",
   "name": "python",
   "nbconvert_exporter": "python",
   "pygments_lexer": "ipython3"
  }
 },
 "nbformat": 4,
 "nbformat_minor": 5
}
