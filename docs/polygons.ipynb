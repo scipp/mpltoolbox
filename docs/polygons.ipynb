{
 "cells": [
  {
   "cell_type": "markdown",
   "id": "0",
   "metadata": {},
   "source": [
    "# Polygons\n",
    "\n",
    "Use the `Polygons` tool to add closed polygons to a plot."
   ]
  },
  {
   "cell_type": "code",
   "execution_count": null,
   "id": "1",
   "metadata": {},
   "outputs": [],
   "source": [
    "%matplotlib widget\n",
    "import matplotlib.pyplot as plt\n",
    "\n",
    "plt.ioff()\n",
    "import mpltoolbox as tbx"
   ]
  },
  {
   "cell_type": "code",
   "execution_count": null,
   "id": "2",
   "metadata": {},
   "outputs": [],
   "source": [
    "fig, ax = plt.subplots(dpi=96)\n",
    "\n",
    "ax.set_xlim(0, 100)\n",
    "ax.set_ylim(0, 100)\n",
    "\n",
    "polygons = tbx.Polygons(ax=ax)"
   ]
  },
  {
   "cell_type": "code",
   "execution_count": null,
   "id": "3",
   "metadata": {
    "nbsphinx": "hidden"
   },
   "outputs": [],
   "source": [
    "import numpy as np\n",
    "\n",
    "np.random.seed(2)  # Fixed for reproducibility\n",
    "N = [5, 4]\n",
    "\n",
    "for n in N:\n",
    "    a = 100 * np.random.random((n, 2))\n",
    "    x = a[:, 0]\n",
    "    y = a[:, 1]\n",
    "    for i in range(n):\n",
    "        polygons.click(x[i], y[i])\n",
    "    polygons.click(x[0], y[0])"
   ]
  },
  {
   "cell_type": "code",
   "execution_count": null,
   "id": "4",
   "metadata": {},
   "outputs": [],
   "source": [
    "fig"
   ]
  },
  {
   "cell_type": "markdown",
   "id": "5",
   "metadata": {},
   "source": [
    "**Controls**\n",
    "\n",
    "- Left-click to make new polygon\n",
    "- Left-click and hold on polygon vertex to move vertex\n",
    "- Right-click and hold to drag/move the entire polygon\n",
    "- Middle-click (or Ctrl + left-click) to delete polygon"
   ]
  }
 ],
 "metadata": {
  "kernelspec": {
   "display_name": "Python 3 (ipykernel)",
   "language": "python",
   "name": "python3"
  },
  "language_info": {
   "codemirror_mode": {
    "name": "ipython",
    "version": 3
   },
   "file_extension": ".py",
   "mimetype": "text/x-python",
   "name": "python",
   "nbconvert_exporter": "python",
   "pygments_lexer": "ipython3",
   "version": "3.10.12"
  }
 },
 "nbformat": 4,
 "nbformat_minor": 5
}
